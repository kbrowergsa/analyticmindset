{
 "cells": [
  {
   "cell_type": "markdown",
   "metadata": {
    "slideshow": {
     "slide_type": "slide"
    }
   },
   "source": [
    "We will be attempting to cover the following topics: data creation, manipulation, and visualization as well as statistics using the Python programming language.  We try to introduce basic and important topics while keeping it \"high-level\", focusing on the practicality AND approachability of venturing into the world of programming and statistics. You can find more information about Python at [www.python.org]"
   ]
  },
  {
   "cell_type": "code",
   "execution_count": 1,
   "metadata": {
    "scrolled": true,
    "slideshow": {
     "slide_type": "skip"
    }
   },
   "outputs": [
    {
     "name": "stdout",
     "output_type": "stream",
     "text": [
      "Defaulting to user installation because normal site-packages is not writeable\n",
      "Requirement already satisfied: statsmodels in c:\\program files\\anaconda3\\lib\\site-packages (0.12.0)\n",
      "Requirement already satisfied: numpy>=1.15 in c:\\program files\\anaconda3\\lib\\site-packages (from statsmodels) (1.19.2)\n",
      "Requirement already satisfied: scipy>=1.1 in c:\\program files\\anaconda3\\lib\\site-packages (from statsmodels) (1.5.2)\n",
      "Requirement already satisfied: pandas>=0.21 in c:\\users\\kellyrbrower\\appdata\\roaming\\python\\python38\\site-packages (from statsmodels) (1.3.4)\n",
      "Requirement already satisfied: patsy>=0.5 in c:\\program files\\anaconda3\\lib\\site-packages (from statsmodels) (0.5.1)\n",
      "Requirement already satisfied: pytz>=2017.3 in c:\\program files\\anaconda3\\lib\\site-packages (from pandas>=0.21->statsmodels) (2020.1)\n",
      "Requirement already satisfied: python-dateutil>=2.7.3 in c:\\program files\\anaconda3\\lib\\site-packages (from pandas>=0.21->statsmodels) (2.8.1)\n",
      "Requirement already satisfied: six in c:\\program files\\anaconda3\\lib\\site-packages (from patsy>=0.5->statsmodels) (1.15.0)\n"
     ]
    }
   ],
   "source": [
    "!pip install statsmodels"
   ]
  },
  {
   "cell_type": "code",
   "execution_count": 2,
   "metadata": {
    "slideshow": {
     "slide_type": "skip"
    }
   },
   "outputs": [],
   "source": [
    "import warnings\n",
    "warnings.simplefilter(action='ignore', category=FutureWarning)"
   ]
  },
  {
   "cell_type": "markdown",
   "metadata": {
    "slideshow": {
     "slide_type": "subslide"
    }
   },
   "source": [
    "We will use some packages from the Python universe to create, collect, and manipulate data as well as do some statistics."
   ]
  },
  {
   "cell_type": "markdown",
   "metadata": {
    "slideshow": {
     "slide_type": "subslide"
    }
   },
   "source": [
    "Some common packages used for these tasks are Pandas, which is a libary that contains specialized data structures that mimic what you would see in an Excel/Google Sheets file.  Numpy is Python's go to numerical computing package for fast computation.  matplotlib is a library for plotting graphs and statsmodels is one of many statisticial packages in the Python universe."
   ]
  },
  {
   "cell_type": "code",
   "execution_count": 3,
   "metadata": {
    "slideshow": {
     "slide_type": "fragment"
    }
   },
   "outputs": [],
   "source": [
    "#like excel in Python\n",
    "import pandas as pd \n",
    "\n",
    "#for fast numerical computing\n",
    "import numpy as np \n",
    "\n",
    "# plotting graphs\n",
    "import matplotlib.pyplot as plt\n",
    "\n",
    "\n",
    "# for stats, such as linear regression\n",
    "import statsmodels.api as sm\n",
    "from statsmodels.formula.api import ols\n",
    "from statsmodels.stats.multicomp import pairwise_tukeyhsd"
   ]
  },
  {
   "cell_type": "code",
   "execution_count": 4,
   "metadata": {
    "slideshow": {
     "slide_type": "skip"
    }
   },
   "outputs": [],
   "source": [
    "# Seed for reproducibility\n",
    "np.random.seed(42)"
   ]
  },
  {
   "cell_type": "markdown",
   "metadata": {
    "slideshow": {
     "slide_type": "slide"
    }
   },
   "source": [
    "We are going to generate some data to work with, so we can show how to manipulate it and do some statisitics with it."
   ]
  },
  {
   "cell_type": "code",
   "execution_count": 5,
   "metadata": {
    "slideshow": {
     "slide_type": "fragment"
    }
   },
   "outputs": [],
   "source": [
    "# Generate data and store in collection called a dictionary (to be explained)\n",
    "data = {\n",
    "    # Select 50 inspectors from a list of 5 choices, all equally likely to be selected\n",
    "    'Inspector': np.random.choice(['A', 'B', 'C', 'D', 'E'], 50),\n",
    "    # Inspection duration around 60 minutes\n",
    "    'Inspection_Duration': np.random.normal(60, 10, 50),  #mean 60, stdev 10, size 50\n",
    "    # Inspector scores between 70 and 100\n",
    "    'Score': np.random.randint(70, 100, 50)  #min 70, max 100, 50 samples \n",
    "}"
   ]
  },
  {
   "cell_type": "code",
   "execution_count": 6,
   "metadata": {
    "slideshow": {
     "slide_type": "subslide"
    }
   },
   "outputs": [
    {
     "data": {
      "text/plain": [
       "{'Inspector': array(['D', 'E', 'C', 'E', 'E', 'B', 'C', 'C', 'C', 'E', 'D', 'C', 'E',\n",
       "        'B', 'D', 'B', 'D', 'E', 'A', 'D', 'B', 'E', 'D', 'A', 'A', 'C',\n",
       "        'C', 'B', 'D', 'D', 'C', 'D', 'D', 'A', 'C', 'E', 'C', 'E', 'A',\n",
       "        'B', 'D', 'A', 'D', 'B', 'B', 'A', 'B', 'E', 'B', 'D'], dtype='<U1'),\n",
       " 'Inspection_Duration': array([67.79192635, 48.98902244, 71.30228194, 63.73118915, 56.13527049,\n",
       "        48.41229758, 65.66112827, 52.9554655 , 46.22060696, 56.46883348,\n",
       "        55.38534282, 60.66657279, 58.23714338, 72.00892772, 66.98398941,\n",
       "        58.28371165, 50.9281342 , 71.88625726, 67.85532124, 86.56010091,\n",
       "        62.6348604 , 76.41771116, 64.608163  , 60.85923472, 44.90042718,\n",
       "        67.21502462, 51.56580077, 54.86674595, 59.56463198, 57.2469909 ,\n",
       "        44.36933205, 52.04369008, 69.30584401, 66.7776741 , 66.98440259,\n",
       "        61.73602064, 66.62284514, 62.41122163, 58.31794912, 71.64768646,\n",
       "        57.54252313, 52.30332226, 72.12172342, 72.33496805, 44.25844713,\n",
       "        66.37952943, 39.55576978, 70.69480886, 50.66237159, 67.84208188]),\n",
       " 'Score': array([83, 76, 96, 78, 84, 84, 95, 79, 97, 82, 88, 76, 86, 89, 98, 73, 99,\n",
       "        74, 92, 76, 82, 84, 80, 98, 73, 82, 76, 96, 88, 91, 97, 71, 79, 82,\n",
       "        99, 94, 90, 75, 97, 97, 81, 81, 89, 99, 99, 80, 95, 92, 97, 94])}"
      ]
     },
     "execution_count": 6,
     "metadata": {},
     "output_type": "execute_result"
    }
   ],
   "source": [
    "data #this creates a dictionary of variable name : array of values"
   ]
  },
  {
   "cell_type": "code",
   "execution_count": 7,
   "metadata": {
    "slideshow": {
     "slide_type": "fragment"
    }
   },
   "outputs": [
    {
     "data": {
      "text/plain": [
       "array(['D', 'E', 'C', 'E', 'E', 'B', 'C', 'C', 'C', 'E', 'D', 'C', 'E',\n",
       "       'B', 'D', 'B', 'D', 'E', 'A', 'D', 'B', 'E', 'D', 'A', 'A', 'C',\n",
       "       'C', 'B', 'D', 'D', 'C', 'D', 'D', 'A', 'C', 'E', 'C', 'E', 'A',\n",
       "       'B', 'D', 'A', 'D', 'B', 'B', 'A', 'B', 'E', 'B', 'D'], dtype='<U1')"
      ]
     },
     "execution_count": 7,
     "metadata": {},
     "output_type": "execute_result"
    }
   ],
   "source": [
    "data['Inspector'] # we can look at the array created by the previous code one by one"
   ]
  },
  {
   "cell_type": "markdown",
   "metadata": {
    "slideshow": {
     "slide_type": "subslide"
    }
   },
   "source": [
    "To work with this more easily we will turn it into something called a \"DataFrame\".  This is like an excel sheet, but we can access it programatically in Python."
   ]
  },
  {
   "cell_type": "code",
   "execution_count": 8,
   "metadata": {
    "slideshow": {
     "slide_type": "fragment"
    }
   },
   "outputs": [],
   "source": [
    "df = pd.DataFrame(data)"
   ]
  },
  {
   "cell_type": "markdown",
   "metadata": {
    "slideshow": {
     "slide_type": "slide"
    }
   },
   "source": [
    "This DataFrame is a list of 50 Inspections, each with a specific Inspector, Inspection Duration and a Score. Later, we will edit the data to create a scenario where one of the inspectors is not behaving like the rest."
   ]
  },
  {
   "cell_type": "code",
   "execution_count": 9,
   "metadata": {
    "slideshow": {
     "slide_type": "subslide"
    }
   },
   "outputs": [
    {
     "data": {
      "text/html": [
       "<div>\n",
       "<style scoped>\n",
       "    .dataframe tbody tr th:only-of-type {\n",
       "        vertical-align: middle;\n",
       "    }\n",
       "\n",
       "    .dataframe tbody tr th {\n",
       "        vertical-align: top;\n",
       "    }\n",
       "\n",
       "    .dataframe thead th {\n",
       "        text-align: right;\n",
       "    }\n",
       "</style>\n",
       "<table border=\"1\" class=\"dataframe\">\n",
       "  <thead>\n",
       "    <tr style=\"text-align: right;\">\n",
       "      <th></th>\n",
       "      <th>Inspector</th>\n",
       "      <th>Inspection_Duration</th>\n",
       "      <th>Score</th>\n",
       "    </tr>\n",
       "  </thead>\n",
       "  <tbody>\n",
       "    <tr>\n",
       "      <th>0</th>\n",
       "      <td>D</td>\n",
       "      <td>67.791926</td>\n",
       "      <td>83</td>\n",
       "    </tr>\n",
       "    <tr>\n",
       "      <th>1</th>\n",
       "      <td>E</td>\n",
       "      <td>48.989022</td>\n",
       "      <td>76</td>\n",
       "    </tr>\n",
       "    <tr>\n",
       "      <th>2</th>\n",
       "      <td>C</td>\n",
       "      <td>71.302282</td>\n",
       "      <td>96</td>\n",
       "    </tr>\n",
       "    <tr>\n",
       "      <th>3</th>\n",
       "      <td>E</td>\n",
       "      <td>63.731189</td>\n",
       "      <td>78</td>\n",
       "    </tr>\n",
       "    <tr>\n",
       "      <th>4</th>\n",
       "      <td>E</td>\n",
       "      <td>56.135270</td>\n",
       "      <td>84</td>\n",
       "    </tr>\n",
       "    <tr>\n",
       "      <th>5</th>\n",
       "      <td>B</td>\n",
       "      <td>48.412298</td>\n",
       "      <td>84</td>\n",
       "    </tr>\n",
       "    <tr>\n",
       "      <th>6</th>\n",
       "      <td>C</td>\n",
       "      <td>65.661128</td>\n",
       "      <td>95</td>\n",
       "    </tr>\n",
       "    <tr>\n",
       "      <th>7</th>\n",
       "      <td>C</td>\n",
       "      <td>52.955465</td>\n",
       "      <td>79</td>\n",
       "    </tr>\n",
       "    <tr>\n",
       "      <th>8</th>\n",
       "      <td>C</td>\n",
       "      <td>46.220607</td>\n",
       "      <td>97</td>\n",
       "    </tr>\n",
       "    <tr>\n",
       "      <th>9</th>\n",
       "      <td>E</td>\n",
       "      <td>56.468833</td>\n",
       "      <td>82</td>\n",
       "    </tr>\n",
       "  </tbody>\n",
       "</table>\n",
       "</div>"
      ],
      "text/plain": [
       "  Inspector  Inspection_Duration  Score\n",
       "0         D            67.791926     83\n",
       "1         E            48.989022     76\n",
       "2         C            71.302282     96\n",
       "3         E            63.731189     78\n",
       "4         E            56.135270     84\n",
       "5         B            48.412298     84\n",
       "6         C            65.661128     95\n",
       "7         C            52.955465     79\n",
       "8         C            46.220607     97\n",
       "9         E            56.468833     82"
      ]
     },
     "execution_count": 9,
     "metadata": {},
     "output_type": "execute_result"
    }
   ],
   "source": [
    "df.head(10) #we can look at the first n rows of the data with the .head() notation."
   ]
  },
  {
   "cell_type": "markdown",
   "metadata": {
    "slideshow": {
     "slide_type": "slide"
    }
   },
   "source": [
    "Let's consider some ways in which we can access the data. What if we want to access row, or columns, or specific entries?"
   ]
  },
  {
   "cell_type": "code",
   "execution_count": 10,
   "metadata": {
    "scrolled": true,
    "slideshow": {
     "slide_type": "fragment"
    }
   },
   "outputs": [
    {
     "data": {
      "text/plain": [
       "0    D\n",
       "1    E\n",
       "2    C\n",
       "3    E\n",
       "4    E\n",
       "5    B\n",
       "6    C\n",
       "7    C\n",
       "8    C\n",
       "9    E\n",
       "Name: Inspector, dtype: object"
      ]
     },
     "execution_count": 10,
     "metadata": {},
     "output_type": "execute_result"
    }
   ],
   "source": [
    "df['Inspector'].head(10) # we can access a column directly with df[col] notation\n",
    "                         # we get a view called a Series which has [index value] pairs\n",
    "                         # with the column name listed below the data"
   ]
  },
  {
   "cell_type": "markdown",
   "metadata": {
    "slideshow": {
     "slide_type": "slide"
    }
   },
   "source": [
    "Let's give these generic inspectors names.  We do so by using a \"name\" dictionary that maps these generic Inspector Names to human names."
   ]
  },
  {
   "cell_type": "code",
   "execution_count": 11,
   "metadata": {
    "slideshow": {
     "slide_type": "fragment"
    }
   },
   "outputs": [],
   "source": [
    "# dictionary is a data structure that holds key : value pairs and acts like a function\n",
    "name = {'A': 'Connor Jones', \n",
    "        'B': 'James Smith', \n",
    "        'C': 'Kelly Trong', \n",
    "        'D': 'Peter Pots', \n",
    "        'E': 'Samantha Lake'}"
   ]
  },
  {
   "cell_type": "markdown",
   "metadata": {
    "slideshow": {
     "slide_type": "subslide"
    }
   },
   "source": [
    "For example, let's look at how name(A) works."
   ]
  },
  {
   "cell_type": "code",
   "execution_count": 12,
   "metadata": {
    "slideshow": {
     "slide_type": "fragment"
    }
   },
   "outputs": [
    {
     "data": {
      "text/plain": [
       "'Connor Jones'"
      ]
     },
     "execution_count": 12,
     "metadata": {},
     "output_type": "execute_result"
    }
   ],
   "source": [
    "name['A']"
   ]
  },
  {
   "cell_type": "markdown",
   "metadata": {
    "slideshow": {
     "slide_type": "slide"
    }
   },
   "source": [
    "Let's \"map\" it to the whole data frame's Inspector column!  We do this simply by indexing into the \"Inspector\" column and \"mapping\" the dictionary over each entry.  That is, we apply \"name\" to every entry in the \"Inspector\" column."
   ]
  },
  {
   "cell_type": "code",
   "execution_count": 13,
   "metadata": {
    "slideshow": {
     "slide_type": "fragment"
    }
   },
   "outputs": [],
   "source": [
    "df['Inspector'] = df['Inspector'].map(name) #replace the entire column with real names"
   ]
  },
  {
   "cell_type": "code",
   "execution_count": 14,
   "metadata": {
    "slideshow": {
     "slide_type": "subslide"
    }
   },
   "outputs": [
    {
     "data": {
      "text/plain": [
       "0       Peter Pots\n",
       "1    Samantha Lake\n",
       "2      Kelly Trong\n",
       "3    Samantha Lake\n",
       "4    Samantha Lake\n",
       "5      James Smith\n",
       "6      Kelly Trong\n",
       "7      Kelly Trong\n",
       "8      Kelly Trong\n",
       "9    Samantha Lake\n",
       "Name: Inspector, dtype: object"
      ]
     },
     "execution_count": 14,
     "metadata": {},
     "output_type": "execute_result"
    }
   ],
   "source": [
    "df['Inspector'].head(10)"
   ]
  },
  {
   "cell_type": "code",
   "execution_count": 15,
   "metadata": {
    "slideshow": {
     "slide_type": "subslide"
    }
   },
   "outputs": [
    {
     "data": {
      "text/plain": [
       "['Connor Jones', 'James Smith', 'Kelly Trong', 'Peter Pots', 'Samantha Lake']"
      ]
     },
     "execution_count": 15,
     "metadata": {},
     "output_type": "execute_result"
    }
   ],
   "source": [
    "sorted(df['Inspector'].unique()) #we can get the unique values out of a series using .unique()\n",
    "                                 #and we are using Python's built-in sorted function for convenience"
   ]
  },
  {
   "cell_type": "markdown",
   "metadata": {
    "slideshow": {
     "slide_type": "slide"
    }
   },
   "source": [
    "We can get another summary view of the Inspectors by printing a histogram."
   ]
  },
  {
   "cell_type": "code",
   "execution_count": 16,
   "metadata": {
    "slideshow": {
     "slide_type": "subslide"
    }
   },
   "outputs": [
    {
     "data": {
      "text/plain": [
       "<AxesSubplot:>"
      ]
     },
     "execution_count": 16,
     "metadata": {},
     "output_type": "execute_result"
    },
    {
     "data": {
      "image/png": "[encoded data removed]",
      "text/plain": [
       "<Figure size 432x288 with 1 Axes>"
      ]
     },
     "metadata": {
      "needs_background": "light"
     },
     "output_type": "display_data"
    }
   ],
   "source": [
    "df['Inspector'].hist() # we see that there's pretty much the same amount of inspections\n",
    "                       # by each inspector\n",
    "                       # we use the .hist() [short for histogram] method\n",
    "                       # for a quick visualization\n"
   ]
  },
  {
   "cell_type": "markdown",
   "metadata": {
    "slideshow": {
     "slide_type": "subslide"
    }
   },
   "source": [
    "This simply implies we have enough representation from each group (Inspector) to do comparisons later on."
   ]
  },
  {
   "cell_type": "code",
   "execution_count": 17,
   "metadata": {
    "scrolled": false,
    "slideshow": {
     "slide_type": "fragment"
    }
   },
   "outputs": [
    {
     "data": {
      "image/png": "[encoded data removed]",
      "text/plain": [
       "<Figure size 432x288 with 1 Axes>"
      ]
     },
     "metadata": {
      "needs_background": "light"
     },
     "output_type": "display_data"
    }
   ],
   "source": [
    "# plot the Score's as a function of the Inspection Duration\n",
    "plt.scatter(df['Inspection_Duration'], df['Score'])\n",
    "plt.xlabel('Inspection Duration')\n",
    "plt.ylabel('Score')\n",
    "plt.show()"
   ]
  },
  {
   "cell_type": "markdown",
   "metadata": {
    "slideshow": {
     "slide_type": "slide"
    }
   },
   "source": [
    "An aside about notation"
   ]
  },
  {
   "cell_type": "code",
   "execution_count": 18,
   "metadata": {
    "slideshow": {
     "slide_type": "fragment"
    }
   },
   "outputs": [
    {
     "data": {
      "text/plain": [
       "True"
      ]
     },
     "execution_count": 18,
     "metadata": {},
     "output_type": "execute_result"
    }
   ],
   "source": [
    "#let's assign a variable x to an integer.\n",
    "x = 1\n",
    "\n",
    "# we will \"mutate\" or change the variable by adding one to it, and saving it\n",
    "x = x + 1 \n",
    "\n",
    "# checks if the left and right of == are the same value\n",
    "x == 2 "
   ]
  },
  {
   "cell_type": "code",
   "execution_count": 19,
   "metadata": {
    "scrolled": true,
    "slideshow": {
     "slide_type": "fragment"
    }
   },
   "outputs": [
    {
     "data": {
      "text/plain": [
       "True"
      ]
     },
     "execution_count": 19,
     "metadata": {},
     "output_type": "execute_result"
    }
   ],
   "source": [
    "#now let's see the short hand\n",
    "x = 1\n",
    "x += 1 #instead of x = x + 1\n",
    "x == 2"
   ]
  },
  {
   "cell_type": "markdown",
   "metadata": {
    "slideshow": {
     "slide_type": "slide"
    }
   },
   "source": [
    "We will also use a very powerful method of a data frame called \"loc\" to return the Scores where the Inspector is Connor."
   ]
  },
  {
   "cell_type": "markdown",
   "metadata": {
    "slideshow": {
     "slide_type": "subslide"
    }
   },
   "source": [
    "But first, let's examine a way to use the \"==\" operator with dataframes"
   ]
  },
  {
   "cell_type": "code",
   "execution_count": 20,
   "metadata": {
    "slideshow": {
     "slide_type": "subslide"
    }
   },
   "outputs": [
    {
     "data": {
      "text/plain": [
       "0     False\n",
       "1     False\n",
       "2     False\n",
       "3     False\n",
       "4     False\n",
       "5     False\n",
       "6     False\n",
       "7     False\n",
       "8     False\n",
       "9     False\n",
       "10    False\n",
       "11    False\n",
       "12    False\n",
       "13    False\n",
       "14    False\n",
       "15    False\n",
       "16    False\n",
       "17    False\n",
       "18     True\n",
       "19    False\n",
       "20    False\n",
       "21    False\n",
       "22    False\n",
       "23     True\n",
       "24     True\n",
       "25    False\n",
       "26    False\n",
       "27    False\n",
       "28    False\n",
       "29    False\n",
       "30    False\n",
       "31    False\n",
       "32    False\n",
       "33     True\n",
       "34    False\n",
       "35    False\n",
       "36    False\n",
       "37    False\n",
       "38     True\n",
       "39    False\n",
       "40    False\n",
       "41     True\n",
       "42    False\n",
       "43    False\n",
       "44    False\n",
       "45     True\n",
       "46    False\n",
       "47    False\n",
       "48    False\n",
       "49    False\n",
       "Name: Inspector, dtype: bool"
      ]
     },
     "execution_count": 20,
     "metadata": {},
     "output_type": "execute_result"
    }
   ],
   "source": [
    "df['Inspector'] == 'Connor Jones' #we ask for which rows is the Inspector Connor Jones?"
   ]
  },
  {
   "cell_type": "code",
   "execution_count": 21,
   "metadata": {
    "slideshow": {
     "slide_type": "skip"
    }
   },
   "outputs": [
    {
     "data": {
      "text/plain": [
       "18    92\n",
       "23    98\n",
       "24    73\n",
       "33    82\n",
       "38    97\n",
       "41    81\n",
       "45    80\n",
       "Name: Score, dtype: int32"
      ]
     },
     "execution_count": 21,
     "metadata": {},
     "output_type": "execute_result"
    }
   ],
   "source": [
    "# we can use loc notation to access with finer granularity\n",
    "\n",
    "# first by saying we want to match rows where the inspector is \"Connor Jones\"\n",
    "condition = df['Inspector'] == 'Connor Jones'\n",
    "\n",
    "# and secondly say we just want the Score\n",
    "column = 'Score'\n",
    "\n",
    "df.loc[condition, column] # we get the 7 Scores Connor gave"
   ]
  },
  {
   "cell_type": "markdown",
   "metadata": {
    "slideshow": {
     "slide_type": "slide"
    }
   },
   "source": [
    "And so using a combination of the tools we just learned, we can edit Connor's scores and inspection times all at once to give the effect that Connor is behaving differently than everyone else."
   ]
  },
  {
   "cell_type": "code",
   "execution_count": 22,
   "metadata": {
    "slideshow": {
     "slide_type": "fragment"
    }
   },
   "outputs": [],
   "source": [
    "# Making Connor's scores lower\n",
    "df.loc[df['Inspector'] == 'Connor Jones', 'Score'] -= 20 \n",
    "\n",
    "# Increasing Connor's inspection times\n",
    "df.loc[df['Inspector'] == 'Connor Jones', 'Inspection_Duration'] += 30"
   ]
  },
  {
   "cell_type": "markdown",
   "metadata": {
    "slideshow": {
     "slide_type": "slide"
    }
   },
   "source": [
    "Let's examine the Score as a function of the Inspection Duration again now after separating Connor from the pack.\n"
   ]
  },
  {
   "cell_type": "code",
   "execution_count": 23,
   "metadata": {
    "scrolled": false,
    "slideshow": {
     "slide_type": "fragment"
    }
   },
   "outputs": [
    {
     "data": {
      "image/png": "[encoded data removed]",
      "text/plain": [
       "<Figure size 432x288 with 1 Axes>"
      ]
     },
     "metadata": {
      "needs_background": "light"
     },
     "output_type": "display_data"
    }
   ],
   "source": [
    "# plot the Score's as a function of the Inspection Duration\n",
    "plt.scatter(df['Inspection_Duration'], df['Score'])\n",
    "plt.xlabel('Inspection Duration')\n",
    "plt.ylabel('Score')\n",
    "plt.show() #Connor's Scores are lower and he's taking much more time"
   ]
  },
  {
   "cell_type": "markdown",
   "metadata": {
    "slideshow": {
     "slide_type": "slide"
    }
   },
   "source": [
    "And now we will we will create a linear relationship between Score and Inspection Duration so we can do linear regression later."
   ]
  },
  {
   "cell_type": "code",
   "execution_count": 24,
   "metadata": {
    "slideshow": {
     "slide_type": "fragment"
    }
   },
   "outputs": [],
   "source": [
    "# Introduce a linear relationship between inspection duration and score\n",
    "# Longer inspections lead to slightly lower scores, which will be revealed statistically\n",
    "df['Score'] -= (df['Inspection_Duration'] - 60) / 2"
   ]
  },
  {
   "cell_type": "code",
   "execution_count": 25,
   "metadata": {
    "scrolled": false,
    "slideshow": {
     "slide_type": "subslide"
    }
   },
   "outputs": [
    {
     "data": {
      "image/png": "[encoded data removed]",
      "text/plain": [
       "<Figure size 432x288 with 1 Axes>"
      ]
     },
     "metadata": {
      "needs_background": "light"
     },
     "output_type": "display_data"
    }
   ],
   "source": [
    "# plot the Score's as a function of the Inspection Duration\n",
    "plt.scatter(df['Inspection_Duration'], df['Score'])\n",
    "plt.xlabel('Inspection Duration')\n",
    "plt.ylabel('Score')\n",
    "plt.show() #the downard trend in the data we saw forming is now more pronounced"
   ]
  },
  {
   "cell_type": "markdown",
   "metadata": {
    "slideshow": {
     "slide_type": "subslide"
    }
   },
   "source": [
    "These edits to the data frame demonstrate the power of Pandas and the ability to view edit, and display data with very little code."
   ]
  },
  {
   "cell_type": "markdown",
   "metadata": {
    "slideshow": {
     "slide_type": "slide"
    }
   },
   "source": [
    "Onward towards data analysis. Let's consider the average score's that these inspectors give."
   ]
  },
  {
   "cell_type": "code",
   "execution_count": 26,
   "metadata": {
    "slideshow": {
     "slide_type": "slide"
    }
   },
   "outputs": [
    {
     "data": {
      "text/html": [
       "<div>\n",
       "<style scoped>\n",
       "    .dataframe tbody tr th:only-of-type {\n",
       "        vertical-align: middle;\n",
       "    }\n",
       "\n",
       "    .dataframe tbody tr th {\n",
       "        vertical-align: top;\n",
       "    }\n",
       "\n",
       "    .dataframe thead th {\n",
       "        text-align: right;\n",
       "    }\n",
       "</style>\n",
       "<table border=\"1\" class=\"dataframe\">\n",
       "  <thead>\n",
       "    <tr style=\"text-align: right;\">\n",
       "      <th></th>\n",
       "      <th>Inspector</th>\n",
       "      <th>Score</th>\n",
       "    </tr>\n",
       "  </thead>\n",
       "  <tbody>\n",
       "    <tr>\n",
       "      <th>0</th>\n",
       "      <td>Connor Jones</td>\n",
       "      <td>51.329039</td>\n",
       "    </tr>\n",
       "    <tr>\n",
       "      <th>1</th>\n",
       "      <td>James Smith</td>\n",
       "      <td>92.366711</td>\n",
       "    </tr>\n",
       "    <tr>\n",
       "      <th>2</th>\n",
       "      <td>Kelly Trong</td>\n",
       "      <td>89.021827</td>\n",
       "    </tr>\n",
       "    <tr>\n",
       "      <th>3</th>\n",
       "      <td>Peter Pots</td>\n",
       "      <td>84.079802</td>\n",
       "    </tr>\n",
       "    <tr>\n",
       "      <th>4</th>\n",
       "      <td>Samantha Lake</td>\n",
       "      <td>81.164626</td>\n",
       "    </tr>\n",
       "  </tbody>\n",
       "</table>\n",
       "</div>"
      ],
      "text/plain": [
       "       Inspector      Score\n",
       "0   Connor Jones  51.329039\n",
       "1    James Smith  92.366711\n",
       "2    Kelly Trong  89.021827\n",
       "3     Peter Pots  84.079802\n",
       "4  Samantha Lake  81.164626"
      ]
     },
     "execution_count": 26,
     "metadata": {},
     "output_type": "execute_result"
    }
   ],
   "source": [
    "average_inspection_score = df.groupby('Inspector')['Score'].mean().reset_index()\n",
    "average_inspection_score "
   ]
  },
  {
   "cell_type": "markdown",
   "metadata": {
    "slideshow": {
     "slide_type": "fragment"
    }
   },
   "source": [
    "\"groupby\" is shorthand for grouping the data frame by a columns values.  It always requires an aggregate function to be supplied (like mean, max, median, etc.).  Resetting the index is just for convenience.  Here we get the average score that each inspector gave across all of their inspections."
   ]
  },
  {
   "cell_type": "markdown",
   "metadata": {
    "slideshow": {
     "slide_type": "slide"
    }
   },
   "source": [
    "It looks like Connor Jones is scoring much lower than his coworkers. Is there a rigorous way of saying this? Yes, we can use statistics!  A famous statistician, John Tukey, developed a method for testing such a scenario. It is a test based on \"Analysis of Variance\", which allows us to rigourously compare means of groups.  That is, in a group of subjects, do the groups separate our dataset in a reasonble way?  It's obvious that separating scores by who gave them is meaningful, but in statistics, we need numerical reasoning.  For brevity, we are going to skip some steps that a statistician would do to justify using Tukey's method."
   ]
  },
  {
   "cell_type": "markdown",
   "metadata": {
    "slideshow": {
     "slide_type": "subslide"
    }
   },
   "source": [
    "https://en.wikipedia.org/wiki/Analysis_of_variance"
   ]
  },
  {
   "cell_type": "code",
   "execution_count": 27,
   "metadata": {
    "slideshow": {
     "slide_type": "skip"
    }
   },
   "outputs": [],
   "source": [
    "# ANOVA\n",
    "# ols stands for oridinary least squares (a common metric for comparison)\n",
    "# .fit() is a method that uses our data from the df\n",
    "# Score ~ Inspector means let's examine the mean scores between Inspectors\n",
    "anova_model_adjusted = ols('Score ~ Inspector', data=df).fit()\n",
    "\n",
    "# anonva_lm takes our model we generated and examines it for a linear relationship\n",
    "anova_table_adjusted = sm.stats.anova_lm(anova_model_adjusted, typ=2)"
   ]
  },
  {
   "cell_type": "markdown",
   "metadata": {
    "slideshow": {
     "slide_type": "skip"
    }
   },
   "source": [
    "For brevity, this ANOVA is required to use Tukey's method, which is much more illustrative of the point we are trying to make.  Below, the table below simply confirms that we can look to Tukey's HSD and be confident in the conclusions we will make. (It's the fact the PR(>F) is close to zero that allows us to do so.) What it means is that the groups (inspectors) IS a good way to separate the scores into groups. This may seem obvious, but remember, we're trying to be rigourous!"
   ]
  },
  {
   "cell_type": "code",
   "execution_count": 28,
   "metadata": {
    "slideshow": {
     "slide_type": "skip"
    }
   },
   "outputs": [
    {
     "data": {
      "text/plain": [
       "True"
      ]
     },
     "execution_count": 28,
     "metadata": {},
     "output_type": "execute_result"
    }
   ],
   "source": [
    "anova_table_adjusted.loc['Inspector']['PR(>F)'] < 0.01"
   ]
  },
  {
   "cell_type": "markdown",
   "metadata": {
    "slideshow": {
     "slide_type": "slide"
    }
   },
   "source": [
    "For those completely unfamiliar with statistics, we simply explain the following tests as ways to \"rigourously\" discover anomalies within data. Two key concepts are \"p-value\" and \"rejecting the null hypothesis\". A null hypothesis is usually some baseline statement like \"the mean values between groups are roughly the same\". P-value refers to the chance that a contradictory observation occurs randomly.  When it is very low, we do something called \"rejecting the null hypothesis\". So essentially, low p-value implies something anomalous is happening in your data."
   ]
  },
  {
   "cell_type": "markdown",
   "metadata": {
    "slideshow": {
     "slide_type": "fragment"
    }
   },
   "source": [
    "https://en.wikipedia.org/wiki/Statistical_hypothesis_test"
   ]
  },
  {
   "cell_type": "code",
   "execution_count": 29,
   "metadata": {
    "slideshow": {
     "slide_type": "slide"
    }
   },
   "outputs": [
    {
     "data": {
      "text/html": [
       "<table class=\"simpletable\">\n",
       "<caption>Multiple Comparison of Means - Tukey HSD, FWER=0.10</caption>\n",
       "<tr>\n",
       "     <th>group1</th>       <th>group2</th>     <th>meandiff</th>  <th>p-adj</th>   <th>lower</th>   <th>upper</th>  <th>reject</th>\n",
       "</tr>\n",
       "<tr>\n",
       "  <td>Connor Jones</td>  <td>James Smith</td>   <td>41.0377</td>  <td>0.001</td>  <td>28.7618</td> <td>53.3135</td>  <td>True</td> \n",
       "</tr>\n",
       "<tr>\n",
       "  <td>Connor Jones</td>  <td>Kelly Trong</td>   <td>37.6928</td>  <td>0.001</td>  <td>25.4169</td> <td>49.9686</td>  <td>True</td> \n",
       "</tr>\n",
       "<tr>\n",
       "  <td>Connor Jones</td>  <td>Peter Pots</td>    <td>32.7508</td>  <td>0.001</td>  <td>21.0727</td> <td>44.4288</td>  <td>True</td> \n",
       "</tr>\n",
       "<tr>\n",
       "  <td>Connor Jones</td> <td>Samantha Lake</td>  <td>29.8356</td>  <td>0.001</td>  <td>17.5597</td> <td>42.1114</td>  <td>True</td> \n",
       "</tr>\n",
       "<tr>\n",
       "   <td>James Smith</td>  <td>Kelly Trong</td>   <td>-3.3449</td>   <td>0.9</td>   <td>-14.485</td> <td>7.7953</td>   <td>False</td>\n",
       "</tr>\n",
       "<tr>\n",
       "   <td>James Smith</td>  <td>Peter Pots</td>    <td>-8.2869</td>  <td>0.279</td> <td>-18.7647</td> <td>2.1908</td>   <td>False</td>\n",
       "</tr>\n",
       "<tr>\n",
       "   <td>James Smith</td> <td>Samantha Lake</td> <td>-11.2021</td> <td>0.0969</td> <td>-22.3422</td> <td>-0.0619</td>  <td>True</td> \n",
       "</tr>\n",
       "<tr>\n",
       "   <td>Kelly Trong</td>  <td>Peter Pots</td>    <td>-4.942</td>  <td>0.7275</td> <td>-15.4198</td> <td>5.5357</td>   <td>False</td>\n",
       "</tr>\n",
       "<tr>\n",
       "   <td>Kelly Trong</td> <td>Samantha Lake</td>  <td>-7.8572</td> <td>0.3928</td> <td>-18.9973</td> <td>3.2829</td>   <td>False</td>\n",
       "</tr>\n",
       "<tr>\n",
       "   <td>Peter Pots</td>  <td>Samantha Lake</td>  <td>-2.9152</td>   <td>0.9</td>  <td>-13.3929</td> <td>7.5626</td>   <td>False</td>\n",
       "</tr>\n",
       "</table>"
      ],
      "text/plain": [
       "<class 'statsmodels.iolib.table.SimpleTable'>"
      ]
     },
     "execution_count": 29,
     "metadata": {},
     "output_type": "execute_result"
    }
   ],
   "source": [
    "# Tukey's HSD, endog is the numerical variable, groups are the different inspectors,\n",
    "# and alpha is related to the p-value (if p < alpha, reject!)\n",
    "tukey_adjusted = pairwise_tukeyhsd(endog=df['Score'], groups=df['Inspector'], alpha=0.1)\n",
    "tukey_adjusted.summary()"
   ]
  },
  {
   "cell_type": "markdown",
   "metadata": {
    "slideshow": {
     "slide_type": "subslide"
    }
   },
   "source": [
    "Let's look at this table and recognize that it's comparing the means of each Inspector's Score together by taking their difference (group2 - group1), and doing Tukey's Test to generate a p-value.  For all of the ways we can compare someone to Connor, we see that we are always getting a small p-value.  So what we would conclude is that his average Score is different than everyone else's.  Explictly, we are rejecting the null hypothesis that there is no difference between Connor's average score and everyone else's average."
   ]
  },
  {
   "cell_type": "markdown",
   "metadata": {
    "slideshow": {
     "slide_type": "slide"
    }
   },
   "source": [
    "So now we have shown Connor is acting differently than his co-workers. Next we discover a possible cause: Connor is taking much longer to do his inspections than his coworkers.  "
   ]
  },
  {
   "cell_type": "code",
   "execution_count": 30,
   "metadata": {
    "slideshow": {
     "slide_type": "fragment"
    }
   },
   "outputs": [
    {
     "data": {
      "text/html": [
       "<div>\n",
       "<style scoped>\n",
       "    .dataframe tbody tr th:only-of-type {\n",
       "        vertical-align: middle;\n",
       "    }\n",
       "\n",
       "    .dataframe tbody tr th {\n",
       "        vertical-align: top;\n",
       "    }\n",
       "\n",
       "    .dataframe thead th {\n",
       "        text-align: right;\n",
       "    }\n",
       "</style>\n",
       "<table border=\"1\" class=\"dataframe\">\n",
       "  <thead>\n",
       "    <tr style=\"text-align: right;\">\n",
       "      <th></th>\n",
       "      <th>Inspector</th>\n",
       "      <th>Inspection_Duration</th>\n",
       "    </tr>\n",
       "  </thead>\n",
       "  <tbody>\n",
       "    <tr>\n",
       "      <th>0</th>\n",
       "      <td>Connor Jones</td>\n",
       "      <td>89.627637</td>\n",
       "    </tr>\n",
       "    <tr>\n",
       "      <th>1</th>\n",
       "      <td>James Smith</td>\n",
       "      <td>57.466579</td>\n",
       "    </tr>\n",
       "    <tr>\n",
       "      <th>2</th>\n",
       "      <td>Kelly Trong</td>\n",
       "      <td>59.356346</td>\n",
       "    </tr>\n",
       "    <tr>\n",
       "      <th>3</th>\n",
       "      <td>Peter Pots</td>\n",
       "      <td>63.686549</td>\n",
       "    </tr>\n",
       "    <tr>\n",
       "      <th>4</th>\n",
       "      <td>Samantha Lake</td>\n",
       "      <td>62.670748</td>\n",
       "    </tr>\n",
       "  </tbody>\n",
       "</table>\n",
       "</div>"
      ],
      "text/plain": [
       "       Inspector  Inspection_Duration\n",
       "0   Connor Jones            89.627637\n",
       "1    James Smith            57.466579\n",
       "2    Kelly Trong            59.356346\n",
       "3     Peter Pots            63.686549\n",
       "4  Samantha Lake            62.670748"
      ]
     },
     "execution_count": 30,
     "metadata": {},
     "output_type": "execute_result"
    }
   ],
   "source": [
    "average_inspection_time = df.groupby('Inspector')['Inspection_Duration'].mean().reset_index()\n",
    "average_inspection_time"
   ]
  },
  {
   "cell_type": "markdown",
   "metadata": {
    "slideshow": {
     "slide_type": "slide"
    }
   },
   "source": [
    "But we can't simply say this is the cause of the score unless we are sure that everyone who takes more time score's their inspectees lower.  And to \"rigourously\" justify this claim, we could perform a linear regression and show that independent of who's scoring, the Score drops whenever Inspection Duration increases. This will reveal statistically the negative relationship we introduced earlier."
   ]
  },
  {
   "cell_type": "markdown",
   "metadata": {
    "slideshow": {
     "slide_type": "subslide"
    }
   },
   "source": [
    "What a linear regression does is fit a continuous line to a set of data points.  Like in Tukey's Test, we have a p-value and a null hypothesis.  What's different in this case is that our null hypothesis is a statement about the slope of the line that fits the data. The null hypothesis effectively says \"there is no linear relationship between Score and Inspection Duration\".  But if we find a line that fits the data nicely, has a non-zero slope (with a low p-value), we have discovered a (non-random) trend.  And with this discovery, we could justify approaching Connor with data backed questions about his Scores and Inspection Durations."
   ]
  },
  {
   "cell_type": "code",
   "execution_count": 31,
   "metadata": {
    "slideshow": {
     "slide_type": "slide"
    }
   },
   "outputs": [
    {
     "name": "stdout",
     "output_type": "stream",
     "text": [
      "                            OLS Regression Results                            \n",
      "==============================================================================\n",
      "Dep. Variable:                  Score   R-squared:                       0.612\n",
      "Model:                            OLS   Adj. R-squared:                  0.603\n",
      "Method:                 Least Squares   F-statistic:                     75.58\n",
      "Date:                Tue, 26 Mar 2024   Prob (F-statistic):           2.01e-11\n",
      "Time:                        10:51:57   Log-Likelihood:                -185.42\n",
      "No. Observations:                  50   AIC:                             374.8\n",
      "Df Residuals:                      48   BIC:                             378.7\n",
      "Df Model:                           1                                         \n",
      "Covariance Type:            nonrobust                                         \n",
      "=======================================================================================\n",
      "                          coef    std err          t      P>|t|      [0.025      0.975]\n",
      "---------------------------------------------------------------------------------------\n",
      "const                 139.7857      6.848     20.414      0.000     126.018     153.554\n",
      "Inspection_Duration    -0.8957      0.103     -8.694      0.000      -1.103      -0.689\n",
      "==============================================================================\n",
      "Omnibus:                        1.316   Durbin-Watson:                   2.301\n",
      "Prob(Omnibus):                  0.518   Jarque-Bera (JB):                1.271\n",
      "Skew:                          -0.362   Prob(JB):                        0.530\n",
      "Kurtosis:                       2.705   Cond. No.                         320.\n",
      "==============================================================================\n",
      "\n",
      "Notes:\n",
      "[1] Standard Errors assume that the covariance matrix of the errors is correctly specified.\n"
     ]
    }
   ],
   "source": [
    "# Linear Regression boiler plate (code you repeat to get an expected effect)\n",
    "X = df['Inspection_Duration'] #the variable we think is affecting Score\n",
    "y = df['Score'] #the variable we want to confirm is affected by Inspection Duration\n",
    "\n",
    "# We are required to add a constant in statsmodels (this is b in y = mx + b)\n",
    "X = sm.add_constant(X)  # Adds a constant term to the predictor\n",
    "lr_model = sm.OLS(y, X).fit() #fit the model to our data\n",
    "\n",
    "\n",
    "print(lr_model.summary())"
   ]
  },
  {
   "cell_type": "markdown",
   "metadata": {
    "slideshow": {
     "slide_type": "subslide"
    }
   },
   "source": [
    "This table has an incredible amount of detail that is useful to statisticians. But for our lesson today, we are simply focusing on p-values and rejecting the null hypothesis. This model's p-value is sufficiently low so we conclude that this is a good-fitting linear model. Additionally, we see an \"Adjusted R-squared\" of .603 which essentially means that this model explains 60% of the variation in the data."
   ]
  },
  {
   "cell_type": "markdown",
   "metadata": {
    "slideshow": {
     "slide_type": "fragment"
    }
   },
   "source": [
    "https://en.wikipedia.org/wiki/Coefficient_of_determination"
   ]
  },
  {
   "cell_type": "code",
   "execution_count": 33,
   "metadata": {
    "slideshow": {
     "slide_type": "slide"
    }
   },
   "outputs": [
    {
     "data": {
      "image/png": "[encoded data removed]",
      "text/plain": [
       "<Figure size 432x288 with 1 Axes>"
      ]
     },
     "metadata": {
      "needs_background": "light"
     },
     "output_type": "display_data"
    }
   ],
   "source": [
    "#plot the data points\n",
    "plt.scatter(X['Inspection_Duration'], y)\n",
    "\n",
    "#plot the linear regression fitted line\n",
    "plt.plot(X['Inspection_Duration'], \n",
    "         lr_model.fittedvalues, # the predicted scores based on the data given\n",
    "         'r-', #color and type of line \n",
    "         label=\"Fitted Line\")\n",
    "\n",
    "#decorate the axes with labels and a legend\n",
    "plt.xlabel('Inspection Duration')\n",
    "plt.ylabel(\"Score\")\n",
    "plt.legend()\n",
    "\n",
    "plt.show()"
   ]
  }
 ],
 "metadata": {
  "celltoolbar": "Slideshow",
  "kernelspec": {
   "display_name": "Python 3",
   "language": "python",
   "name": "python3"
  },
  "language_info": {
   "codemirror_mode": {
    "name": "ipython",
    "version": 3
   },
   "file_extension": ".py",
   "mimetype": "text/x-python",
   "name": "python",
   "nbconvert_exporter": "python",
   "pygments_lexer": "ipython3",
   "version": "3.8.5"
  }
 },
 "nbformat": 4,
 "nbformat_minor": 5
}
